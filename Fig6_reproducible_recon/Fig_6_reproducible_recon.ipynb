{
 "cells": [
  {
   "cell_type": "markdown",
   "metadata": {},
   "source": [
    "# Reproduce Figure 6"
   ]
  },
  {
   "cell_type": "markdown",
   "metadata": {},
   "source": [
    "# Setup BART, cfl2png and inkscape (on Colab)\n",
    "\n",
    "This notebook requires BART (v0.9.00) to perform data processing and reconstructions, cfl2png to generate PNGs from the reconstructions and inkscape to join the individual PNGs to the final figure.\n",
    "\n",
    "If this notebook is run on Google Colab, the setup is performed in the following cells. If not, it is assumed that the tools are installed manually."
   ]
  },
  {
   "cell_type": "code",
   "execution_count": 1,
   "metadata": {},
   "outputs": [],
   "source": [
    "# environment to check if on Colab\n",
    "\n",
    "import os\n",
    "\n",
    "if os.getenv(\"COLAB_RELEASE_TAG\"):\n",
    "  os.environ[\"COLAB\"] = \"1\"\n",
    "else:\n",
    "  os.environ[\"COLAB\"] = \"0\""
   ]
  },
  {
   "cell_type": "markdown",
   "metadata": {},
   "source": [
    "Install dependencies"
   ]
  },
  {
   "cell_type": "markdown",
   "metadata": {},
   "source": [
    "%%bash\n",
    "\n",
    "[ $COLAB -ne 1 ] && echo \"Skipp cell (not on Colab)\" && exit 0\n",
    "\n",
    "# Install BARTs dependencies\n",
    "apt-get install -y make gcc libfftw3-dev liblapacke-dev libpng-dev libopenblas-dev &> /dev/null\n",
    "\n",
    "# Install dependencies for view\n",
    "apt-get install -y libgtk-3-dev &> /dev/null\n",
    "\n",
    "# Install inkscape\n",
    "apt-get install -y inkscape &> /dev/null"
   ]
  },
  {
   "cell_type": "markdown",
   "metadata": {},
   "source": [
    "Clone BART from github, checkout v0.9.00 and build it."
   ]
  },
  {
   "cell_type": "code",
   "execution_count": 2,
   "metadata": {},
   "outputs": [
    {
     "name": "stdout",
     "output_type": "stream",
     "text": [
      "Skipp cell (not on Colab)\n"
     ]
    }
   ],
   "source": [
    "%%bash\n",
    "\n",
    "[ $COLAB -ne 1 ] && echo \"Skipp cell (not on Colab)\" && exit 0\n",
    "\n",
    "# Clone Bart\n",
    "[ -d bart ] && rm -r bart\n",
    "\n",
    "git clone https://github.com/mrirecon/bart/ bart &> /dev/null\n",
    "\n",
    "cd bart\n",
    "\n",
    "git checkout v0.9.00\n",
    "\n",
    "make &> /dev/null"
   ]
  },
  {
   "cell_type": "markdown",
   "metadata": {},
   "source": [
    "Setup environment variables to find BART executable."
   ]
  },
  {
   "cell_type": "code",
   "execution_count": 3,
   "metadata": {},
   "outputs": [],
   "source": [
    "import os\n",
    "\n",
    "if os.environ[\"COLAB\"] == \"1\":\n",
    "  os.environ['BART_TOOLBOX_PATH']=os.getcwd()+\"/bart/\"\n",
    "  os.environ['PATH'] = os.environ['BART_TOOLBOX_PATH'] + \":\" + os.environ['PATH']\n",
    "  os.environ['PATH'] = os.getcwd()+\"/view/\" + \":\" + os.environ['PATH']"
   ]
  },
  {
   "cell_type": "markdown",
   "metadata": {},
   "source": [
    "Clone view (cfl2png) from github, checkout v0.3.00 and build it."
   ]
  },
  {
   "cell_type": "code",
   "execution_count": 4,
   "metadata": {},
   "outputs": [
    {
     "name": "stdout",
     "output_type": "stream",
     "text": [
      "Skipp cell (not on Colab)\n"
     ]
    }
   ],
   "source": [
    "%%bash\n",
    "\n",
    "[ $COLAB -ne 1 ] && echo \"Skipp cell (not on Colab)\" && exit 0\n",
    "\n",
    "# Clone Bart\n",
    "[ -d view ] && rm -r view\n",
    "\n",
    "git clone https://github.com/mrirecon/view.git view &> /dev/null\n",
    "\n",
    "cd view\n",
    "\n",
    "git checkout v0.3.00\n",
    "\n",
    "make &> /dev/null"
   ]
  },
  {
   "cell_type": "markdown",
   "metadata": {},
   "source": [
    "Check Setup by generating Shepp-Logan Phantom and converting to PNG:"
   ]
  },
  {
   "cell_type": "code",
   "execution_count": 5,
   "metadata": {},
   "outputs": [
    {
     "name": "stdout",
     "output_type": "stream",
     "text": [
      "BART version: v0.9.00\n"
     ]
    }
   ],
   "source": [
    "%%bash\n",
    "\n",
    "echo \"BART version: $(bart version)\"\n",
    "\n",
    "bart phantom phan\n",
    "cfl2png -x1 -y0 phan phan"
   ]
  },
  {
   "cell_type": "markdown",
   "metadata": {},
   "source": [
    "![Phantom](phan.png)"
   ]
  },
  {
   "cell_type": "markdown",
   "metadata": {},
   "source": [
    "# Download Raw Data from Zenodo"
   ]
  },
  {
   "cell_type": "code",
   "execution_count": 6,
   "metadata": {},
   "outputs": [],
   "source": [
    "%%bash\n",
    "\n",
    "#bart twixread -A meas_MID00709_FID13299_t2_tse_tra_R=1.dat ksp_all\n",
    "#bart slice 13 11 ksp_all ksp_fully\n",
    "\n",
    "if [ ! -f ksp_fully.cfl ] ; then\n",
    "\n",
    "\tLINK_TO_ZENODO=???\n",
    "\twget $LINK_TO_ZENODO/ksp_fully.hdr\n",
    "\twget $LINK_TO_ZENODO/ksp_fully.cfl\n",
    "fi"
   ]
  },
  {
   "cell_type": "markdown",
   "metadata": {},
   "source": [
    "# Fully Sampled and Subsampled Reconstructions: Part A"
   ]
  },
  {
   "cell_type": "markdown",
   "metadata": {},
   "source": [
    "## Generate Subsampling Pattern and Undersample k-Space"
   ]
  },
  {
   "cell_type": "code",
   "execution_count": 7,
   "metadata": {},
   "outputs": [
    {
     "name": "stdout",
     "output_type": "stream",
     "text": [
      "points: 2965, grid size: 420x24 = 10080 (R = 3.399663)\n"
     ]
    }
   ],
   "source": [
    "%%bash\n",
    "\n",
    "bart poisson -C24 -Y420 -y4 -Z24 tmp\n",
    "bart slice 2 0 tmp pat\n",
    "\n",
    "bart repmat 0 420 pat tmp\n",
    "cfl2png -x 1 -y 0 tmp pat\n",
    "\n",
    "bart fmac ksp_fully pat ksp_raw"
   ]
  },
  {
   "cell_type": "markdown",
   "metadata": {},
   "source": [
    "## Prewhiten k-Space Data\n",
    "\n",
    "Noise is extracted from a region outside the FOV. The same noise from the undersampled k-space data is used to whiten the the fully sampled and the undersampled k-space data."
   ]
  },
  {
   "cell_type": "code",
   "execution_count": 8,
   "metadata": {},
   "outputs": [],
   "source": [
    "%%bash\n",
    "\n",
    "bart fft -i -u 1 ksp_raw tmp\n",
    "bart slice 0 50 tmp tmp\n",
    "bart transpose 1 0 tmp noise\n",
    "\n",
    "bart whiten -n ksp_raw noise ksp_white\n",
    "\n",
    "bart whiten -n ksp_fully noise ksp_fully_white"
   ]
  },
  {
   "cell_type": "markdown",
   "metadata": {},
   "source": [
    "## Fully Sampled Reference Reconstruction"
   ]
  },
  {
   "cell_type": "code",
   "execution_count": 23,
   "metadata": {},
   "outputs": [
    {
     "name": "stdout",
     "output_type": "stream",
     "text": [
      "Done.\n"
     ]
    }
   ],
   "source": [
    "%%bash\n",
    "\n",
    "bart ecalib -m1 ksp_fully_white col\n",
    "\n",
    "bart fft -i -u 3 ksp_fully_white cim_os\n",
    "bart fmac -C -s8 cim_os col img\n",
    "bart flip 1 img img\n",
    "\n",
    "bart resize -c 0 320 1 320 img img\n",
    "bart rss 8 img rss\n",
    "\n",
    "cfl2png -A -u800 -x1 -y0 rss rss"
   ]
  },
  {
   "cell_type": "markdown",
   "metadata": {},
   "source": [
    "<img src=\"rss.png\" alt=\"Fully Sampled Reference\" width=\"300\"/>"
   ]
  },
  {
   "cell_type": "markdown",
   "metadata": {},
   "source": [
    "## Coil Compression to 12 Virtual Coils"
   ]
  },
  {
   "cell_type": "code",
   "execution_count": 10,
   "metadata": {},
   "outputs": [
    {
     "name": "stdout",
     "output_type": "stream",
     "text": [
      "Done.\n"
     ]
    }
   ],
   "source": [
    "%%bash\n",
    "\n",
    "bart cc -p 12 ksp_white ksp_cc"
   ]
  },
  {
   "cell_type": "markdown",
   "metadata": {},
   "source": [
    "## Remove Frequency Oversampling"
   ]
  },
  {
   "cell_type": "code",
   "execution_count": 11,
   "metadata": {},
   "outputs": [],
   "source": [
    "%%bash\n",
    "\n",
    "# Remove frequency oversampling\n",
    "bart fft -u -i 1 ksp_cc tmp\n",
    "bart resize -c 0 320 tmp tmp\n",
    "bart fft -u 1 tmp ksp_nos"
   ]
  },
  {
   "cell_type": "markdown",
   "metadata": {},
   "source": [
    "## Reference Reconstruction of Undersampled k-Space Data"
   ]
  },
  {
   "cell_type": "code",
   "execution_count": 24,
   "metadata": {},
   "outputs": [
    {
     "name": "stdout",
     "output_type": "stream",
     "text": [
      "Done.\n",
      "Size: 134400 Samples: 37119 Acc: 3.62\n",
      "l1-wavelet regularization: 0.001000\n",
      "Regularization terms: 1, Supporting variables: 0\n",
      "FISTA\n",
      "Total Time: 20.423241\n"
     ]
    }
   ],
   "source": [
    "%%bash\n",
    "\n",
    "POST=_rec\n",
    "\n",
    "# Estimate Coil Sensitivities\n",
    "bart ecalib -m1 ksp_cc tmp\n",
    "bart resize -c 0 320 tmp col\n",
    "\n",
    "# Perform PICS reconstruction\n",
    "bart pics -S -RW:3:0:0.001 -i300 ksp_nos col img\n",
    "bart flip 1 img img\n",
    "\n",
    "# Take magnitude\n",
    "bart rss 0 img rss$POST\n",
    "\n",
    "# Remove phase oversampling\n",
    "bart resize -c 0 320 1 320 rss$POST rss$POST\n",
    "\n",
    "# Compute difference\n",
    "bart saxpy -- -1 rss rss$POST diff$POST\n",
    "bart rss 0 diff$POST diff$POST\n",
    "\n",
    "cfl2png -A -u800 -x1 -y0 rss$POST rss$POST\n",
    "cfl2png -A -u40  -x1 -y0 diff$POST diff$POST"
   ]
  },
  {
   "cell_type": "markdown",
   "metadata": {},
   "source": [
    "\n",
    "<img src=\"rss_rec.png\" alt=\"Reconstruction\" width=\"300\"/>\n",
    "<img src=\"diff_rec.png\" alt=\"Difference to Fully Sampled\" width=\"300\"/>"
   ]
  },
  {
   "cell_type": "markdown",
   "metadata": {},
   "source": [
    "# Reproduce the Reconstructions: Part B"
   ]
  },
  {
   "cell_type": "markdown",
   "metadata": {},
   "source": [
    "## Missing Information on Number of Iterations"
   ]
  },
  {
   "cell_type": "code",
   "execution_count": 25,
   "metadata": {},
   "outputs": [
    {
     "name": "stdout",
     "output_type": "stream",
     "text": [
      "Done.\n",
      "Size: 134400 Samples: 37119 Acc: 3.62\n",
      "l1-wavelet regularization: 0.001000\n",
      "Regularization terms: 1, Supporting variables: 0\n",
      "FISTA\n",
      "Total Time: 8.134389\n"
     ]
    }
   ],
   "source": [
    "%%bash\n",
    "\n",
    "POST=_iter\n",
    "\n",
    "# Estimate Coil Sensitivities\n",
    "bart ecalib -m1 ksp_cc tmp\n",
    "bart resize -c 0 320 tmp col\n",
    "\n",
    "# Perform PICS reconstruction\n",
    "bart pics -S -RW:3:0:0.001 -i100 ksp_nos col img\n",
    "bart flip 1 img img\n",
    "\n",
    "# Take magnitude\n",
    "bart rss 0 img rss$POST\n",
    "\n",
    "# Remove phase oversampling\n",
    "bart resize -c 0 320 1 320 rss$POST rss$POST\n",
    "\n",
    "# Compute difference\n",
    "bart saxpy -- -1 rss_rec rss$POST diff$POST\n",
    "bart rss 0 diff$POST diff$POST\n",
    "\n",
    "cfl2png -A -u800 -x1 -y0 rss$POST rss$POST\n",
    "cfl2png -A -u40  -x1 -y0 diff$POST diff$POST"
   ]
  },
  {
   "cell_type": "markdown",
   "metadata": {},
   "source": [
    "\n",
    "<img src=\"rss_iter.png\" alt=\"Reconstruction\" width=\"300\"/>\n",
    "<img src=\"diff_iter.png\" alt=\"Difference to Reproduced Reconstruction\" width=\"300\"/>"
   ]
  },
  {
   "cell_type": "markdown",
   "metadata": {},
   "source": [
    "## Missing Information on Optimization Algorithm (not shown)"
   ]
  },
  {
   "cell_type": "code",
   "execution_count": 26,
   "metadata": {},
   "outputs": [
    {
     "name": "stdout",
     "output_type": "stream",
     "text": [
      "Done.\n",
      "Size: 134400 Samples: 37119 Acc: 3.62\n",
      "l1-wavelet regularization: 0.001000\n",
      "Regularization terms: 1, Supporting variables: 0\n",
      "ADMM\n",
      "Total Time: 36.124603\n"
     ]
    }
   ],
   "source": [
    "%%bash\n",
    "\n",
    "POST=_algo\n",
    "\n",
    "# Estimate Coil Sensitivities\n",
    "bart ecalib -m1 ksp_cc tmp\n",
    "bart resize -c 0 320 tmp col\n",
    "\n",
    "# Perform PICS reconstruction\n",
    "bart pics -S -RW:3:0:0.001 -i300 -m ksp_nos col img\n",
    "bart flip 1 img img\n",
    "\n",
    "# Take magnitude\n",
    "bart rss 0 img rss$POST\n",
    "\n",
    "# Remove phase oversampling\n",
    "bart resize -c 0 320 1 320 rss$POST rss$POST\n",
    "\n",
    "# Compute difference\n",
    "bart saxpy -- -1 rss_rec rss$POST diff$POST\n",
    "bart rss 0 diff$POST diff$POST\n",
    "\n",
    "cfl2png -A -u800 -x1 -y0 rss$POST rss$POST\n",
    "cfl2png -A -u40  -x1 -y0 diff$POST diff$POST"
   ]
  },
  {
   "cell_type": "markdown",
   "metadata": {},
   "source": [
    "\n",
    "<img src=\"rss_algo.png\" alt=\"Reconstruction\" width=\"300\"/>\n",
    "<img src=\"diff_algo.png\" alt=\"Difference to Reproduced Reconstruction\" width=\"300\"/>"
   ]
  },
  {
   "cell_type": "markdown",
   "metadata": {},
   "source": [
    "## Missing Information on Number of Virtual Coils"
   ]
  },
  {
   "cell_type": "code",
   "execution_count": 27,
   "metadata": {},
   "outputs": [
    {
     "name": "stdout",
     "output_type": "stream",
     "text": [
      "Done.\n",
      "Done.\n",
      "Size: 134400 Samples: 37119 Acc: 3.62\n",
      "l1-wavelet regularization: 0.001000\n",
      "Regularization terms: 1, Supporting variables: 0\n",
      "FISTA\n",
      "Total Time: 22.132471\n"
     ]
    }
   ],
   "source": [
    "%%bash\n",
    "\n",
    "POST=_cc\n",
    "\n",
    "bart cc -p 8 ksp_white ksp_cc2\n",
    "\n",
    "# Remove frequency oversampling\n",
    "bart fft -u -i 1 ksp_cc2 tmp\n",
    "bart resize -c 0 320 tmp tmp\n",
    "bart fft -u 1 tmp ksp_nos2\n",
    "\n",
    "# Estimate Coil Sensitivities\n",
    "bart ecalib -m1 ksp_cc2 tmp\n",
    "bart resize -c 0 320 tmp col\n",
    "\n",
    "# Perform PICS reconstruction\n",
    "bart pics -S -RW:3:0:0.001 -i300 ksp_nos2 col img\n",
    "bart flip 1 img img\n",
    "\n",
    "# Take magnitude\n",
    "bart rss 0 img rss$POST\n",
    "\n",
    "# Remove phase oversampling\n",
    "bart resize -c 0 320 1 320 rss$POST rss$POST\n",
    "\n",
    "# Compute difference\n",
    "bart saxpy -- -1 rss_rec rss$POST diff$POST\n",
    "bart rss 0 diff$POST diff$POST\n",
    "\n",
    "cfl2png -A -u800 -x1 -y0 rss$POST rss$POST\n",
    "cfl2png -A -u40  -x1 -y0 diff$POST diff$POST"
   ]
  },
  {
   "cell_type": "markdown",
   "metadata": {},
   "source": [
    "\n",
    "<img src=\"rss_cc.png\" alt=\"Reconstruction\" width=\"300\"/>\n",
    "<img src=\"diff_cc.png\" alt=\"Difference to Reproduced Reconstruction\" width=\"300\"/>"
   ]
  },
  {
   "cell_type": "markdown",
   "metadata": {},
   "source": [
    "## Missing Information on ESPIRiT Parameter"
   ]
  },
  {
   "cell_type": "code",
   "execution_count": 28,
   "metadata": {},
   "outputs": [
    {
     "name": "stdout",
     "output_type": "stream",
     "text": [
      "---------------------------------------------\n",
      "| CTR1 | CTR2 |  Crop  |      Est. MSE      |\n",
      "---------------------------------------------\n",
      "|    1 |    1 | 0.9900 | 1.660466700000e+07 |\n",
      "|      |    2 | 0.8900 | 1.456901300000e+07 |\n",
      "|      |    3 | 0.7900 | 1.410630200000e+07 |\n",
      "|      |    4 | 0.6900 | 1.440761100000e+07 |\n",
      "|    2 |    1 | 0.7400 | 1.426520600000e+07 |\n",
      "|      |    2 | 0.7900 | 1.410630200000e+07 |\n",
      "|      |    3 | 0.8400 | 1.415684100000e+07 |\n",
      "|    3 |    1 | 0.8150 | 1.407813500000e+07 |\n",
      "|      |    2 | 0.7900 | 1.410630200000e+07 |\n",
      "|    4 |    1 | 0.8025 | 1.408442900000e+07 |\n",
      "|      |    2 | 0.8150 | 1.407813500000e+07 |\n",
      "|      |    3 | 0.8275 | 1.408267400000e+07 |\n",
      "|    5 |    1 | 0.8212 | 1.407918000000e+07 |\n",
      "|      |    2 | 0.8150 | 1.407813500000e+07 |\n",
      "|      |    3 | 0.8087 | 1.407986600000e+07 |\n",
      "|    6 |    1 | 0.8119 | 1.407812500000e+07 |\n",
      "|      |    2 | 0.8150 | 1.407813500000e+07 |\n",
      "|    7 |    1 | 0.8134 | 1.407773700000e+07 |\n",
      "|      |    2 | 0.8119 | 1.407812500000e+07 |\n",
      "|    8 |    1 | 0.8127 | 1.407794100000e+07 |\n",
      "|      |    2 | 0.8134 | 1.407773700000e+07 |\n",
      "|      |    3 | 0.8142 | 1.407837800000e+07 |\n",
      "|    9 |    1 | 0.8138 | 1.407822000000e+07 |\n",
      "|      |    2 | 0.8134 | 1.407773700000e+07 |\n",
      "|      |    3 | 0.8130 | 1.407846700000e+07 |\n",
      "|   10 |    1 | 0.8132 | 1.407821200000e+07 |\n",
      "|      |    2 | 0.8134 | 1.407773700000e+07 |\n",
      "|      |    3 | 0.8136 | 1.407800700000e+07 |\n",
      "---------------------------------------------\n",
      "Done.\n",
      "Size: 134400 Samples: 37119 Acc: 3.62\n",
      "l1-wavelet regularization: 0.001000\n",
      "Regularization terms: 1, Supporting variables: 0\n",
      "FISTA\n",
      "Total Time: 28.397806\n"
     ]
    }
   ],
   "source": [
    "%%bash\n",
    "\n",
    "POST=_coils\n",
    "\n",
    "# Estimate Coil Sensitivities\n",
    "# WARNING: on Debian 12 the standard OpenBLAS library triggers a segfault in the SVD\n",
    "#          (c.f. https://github.com/OpenMathLib/OpenBLAS/issues/5000)\n",
    "#          As a workaround, the BLAS backend of BART can be changed with\n",
    "#          $ sudo update-alternatives --config libblas.so.3-x86_64-linux-gnu\n",
    "#          and selecting the slower reference BLAS implementation.\n",
    "\n",
    "bart ecalib -a -m1 ksp_cc tmp\n",
    "bart resize -c 0 320 tmp col\n",
    "\n",
    "# Perform PICS reconstruction\n",
    "bart pics -S -RW:3:0:0.001 -i300 ksp_nos col img\n",
    "bart flip 1 img img\n",
    "\n",
    "# Take magnitude\n",
    "bart rss 0 img rss$POST\n",
    "\n",
    "# Remove phase oversampling\n",
    "bart resize -c 0 320 1 320 rss$POST rss$POST\n",
    "\n",
    "# Compute difference\n",
    "bart saxpy -- -1 rss_rec rss$POST diff$POST\n",
    "bart rss 0 diff$POST diff$POST\n",
    "\n",
    "cfl2png -A -u800 -x1 -y0 rss$POST rss$POST\n",
    "cfl2png -A -u40  -x1 -y0 diff$POST diff$POST\n"
   ]
  },
  {
   "cell_type": "markdown",
   "metadata": {},
   "source": [
    "\n",
    "<img src=\"rss_coils.png\" alt=\"Reconstruction\" width=\"300\"/>\n",
    "<img src=\"diff_coils.png\" alt=\"Difference to Reproduced Reconstruction\" width=\"300\"/>"
   ]
  },
  {
   "cell_type": "markdown",
   "metadata": {},
   "source": [
    "## Missing Information on Normalization of k-Space Data"
   ]
  },
  {
   "cell_type": "code",
   "execution_count": 29,
   "metadata": {},
   "outputs": [
    {
     "name": "stdout",
     "output_type": "stream",
     "text": [
      "Done.\n",
      "Size: 134400 Samples: 37119 Acc: 3.62\n",
      "l1-wavelet regularization: 0.001000\n",
      "Regularization terms: 1, Supporting variables: 0\n",
      "FISTA\n",
      "Total Time: 25.006019\n"
     ]
    }
   ],
   "source": [
    "%%bash\n",
    "\n",
    "POST=_normalize\n",
    "\n",
    "# Estimate Coil Sensitivities\n",
    "bart ecalib -m1 ksp_cc tmp\n",
    "bart resize -c 0 320 tmp col\n",
    "\n",
    "# Perform PICS reconstruction\n",
    "bart pics -S -RW:3:0:0.001 -i300 -w1. ksp_nos col img\n",
    "bart flip 1 img img\n",
    "\n",
    "# Take magnitude\n",
    "bart rss 0 img rss$POST\n",
    "\n",
    "# Remove phase oversampling\n",
    "bart resize -c 0 320 1 320 rss$POST rss$POST\n",
    "\n",
    "# Compute difference\n",
    "bart saxpy -- -1 rss_rec rss$POST diff$POST\n",
    "bart rss 0 diff$POST diff$POST\n",
    "\n",
    "cfl2png -A -u800 -x1 -y0 rss$POST rss$POST\n",
    "cfl2png -A -u40  -x1 -y0 diff$POST diff$POST"
   ]
  },
  {
   "cell_type": "markdown",
   "metadata": {},
   "source": [
    "\n",
    "<img src=\"rss_normalize.png\" alt=\"Reconstruction\" width=\"300\"/>\n",
    "<img src=\"diff_normalize.png\" alt=\"Difference to Reproduced Reconstruction\" width=\"300\"/>"
   ]
  },
  {
   "cell_type": "markdown",
   "metadata": {},
   "source": [
    "## Missing Information on Prewhitening (not shown)"
   ]
  },
  {
   "cell_type": "code",
   "execution_count": 30,
   "metadata": {},
   "outputs": [
    {
     "name": "stdout",
     "output_type": "stream",
     "text": [
      "Done.\n",
      "Done.\n",
      "Size: 134400 Samples: 37119 Acc: 3.62\n",
      "l1-wavelet regularization: 0.001000\n",
      "Regularization terms: 1, Supporting variables: 0\n",
      "FISTA\n",
      "Total Time: 21.740030\n",
      "Scaled by: 960704.062500+0.000000i\n",
      "0.161680\n"
     ]
    }
   ],
   "source": [
    "%%bash\n",
    "\n",
    "POST=_white\n",
    "\n",
    "bart cc -p 12 ksp_raw ksp_cc2\n",
    "\n",
    "# Remove frequency oversampling\n",
    "bart fft -u -i 1 ksp_cc2 tmp\n",
    "bart resize -c 0 320 tmp tmp\n",
    "bart fft -u 1 tmp ksp_nos2\n",
    "\n",
    "# Estimate Coil Sensitivities\n",
    "bart ecalib -m1 ksp_cc2 tmp\n",
    "bart resize -c 0 320 tmp col\n",
    "\n",
    "# Perform PICS reconstruction\n",
    "bart pics -S -RW:3:0:0.001 -i300 ksp_nos2 col img\n",
    "bart flip 1 img img\n",
    "\n",
    "# Take magnitude\n",
    "bart rss 0 img rss$POST\n",
    "\n",
    "# Remove phase oversampling\n",
    "bart resize -c 0 320 1 320 rss$POST rss$POST\n",
    "\n",
    "bart nrmse -s rss$POST rss_rec\n",
    "bart scale 960703.75 rss$POST rss$POST\n",
    "\n",
    "# Compute difference\n",
    "bart saxpy -- -1 rss_rec rss$POST diff$POST\n",
    "bart rss 0 diff$POST diff$POST\n",
    "\n",
    "cfl2png -A -u800 -x1 -y0 rss$POST rss$POST\n",
    "cfl2png -A -u40  -x1 -y0 diff$POST diff$POST"
   ]
  },
  {
   "cell_type": "markdown",
   "metadata": {},
   "source": [
    "\n",
    "<img src=\"rss_white.png\" alt=\"Reconstruction\" width=\"300\"/>\n",
    "<img src=\"diff_white.png\" alt=\"Difference to Reproduced Reconstruction\" width=\"300\"/>"
   ]
  },
  {
   "cell_type": "markdown",
   "metadata": {},
   "source": [
    "# Generate Final Figure"
   ]
  },
  {
   "cell_type": "code",
   "execution_count": null,
   "metadata": {},
   "outputs": [],
   "source": [
    "%%bash\n",
    "\n",
    "if [ ! -f fig_6_template.svg ]; then\n",
    "\tLINK_TO_GITHUB=???\n",
    "\twget $LINK_TO_GITHUB/figures/Fig_6_template.svg\n",
    "fi\n",
    "\n",
    "inkscape --export-filename=Fig_6_reproducible_recon.pdf Fig_6_template.svg"
   ]
  },
  {
   "cell_type": "code",
   "execution_count": null,
   "metadata": {},
   "outputs": [],
   "source": []
  }
 ],
 "metadata": {
  "kernelspec": {
   "display_name": "base",
   "language": "python",
   "name": "python3"
  },
  "language_info": {
   "codemirror_mode": {
    "name": "ipython",
    "version": 3
   },
   "file_extension": ".py",
   "mimetype": "text/x-python",
   "name": "python",
   "nbconvert_exporter": "python",
   "pygments_lexer": "ipython3",
   "version": "3.10.9"
  }
 },
 "nbformat": 4,
 "nbformat_minor": 2
}
